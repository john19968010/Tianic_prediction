{
 "cells": [
  {
   "cell_type": "code",
   "execution_count": null,
   "metadata": {},
   "outputs": [],
   "source": [
    "import urllib.request \n",
    "import os\n",
    "import numpy as np\n",
    "import pandas as pd\n",
    "from sklearn import preprocessing\n",
    "from keras.models import Sequential\n",
    "from keras.layers import Dense,Dropout\n",
    "import matplotlib.pyplot as plt"
   ]
  },
  {
   "cell_type": "code",
   "execution_count": null,
   "metadata": {},
   "outputs": [],
   "source": [
    "def downloadData(url,file):\n",
    "    urllib.request.urlretrieve(url,file)\n",
    "    data = pd.read_excel(file)\n",
    "    return data"
   ]
  },
  {
   "cell_type": "code",
   "execution_count": null,
   "metadata": {},
   "outputs": [],
   "source": [
    "def PreprocessData(data):\n",
    "    draft = data.drop(['name'], axis=1)\n",
    "    age_avg = draft['age'].mean()\n",
    "    draft['age'] = draft['age'].fillna(age_avg)\n",
    "    fare_avg = draft['fare'].mean()\n",
    "    draft['fare'] = draft['fare'].fillna(fare_avg)\n",
    "    draft['sex'] = draft['sex'].map({'female':0, 'male':1}).astype(int)\n",
    "    new_data = pd.get_dummies(data=draft,columns=['embarked'])\n",
    "    \n",
    "    New_data = new_data.values\n",
    "    Label = New_data[:,0]\n",
    "    Features = New_data[:,1:]\n",
    "    \n",
    "    scale = preprocessing.MinMaxScaler(feature_range=(0,1))\n",
    "    Scaled_Features = scale.fit_transform(Features)\n",
    "    \n",
    "    return Scaled_Features,Label\n",
    "    "
   ]
  },
  {
   "cell_type": "code",
   "execution_count": null,
   "metadata": {},
   "outputs": [],
   "source": [
    "def splitData(data):\n",
    "    split = np.random.rand(len(data)) < 0.7\n",
    "    train = data[split]\n",
    "    test = data[~split]\n",
    "    return train,test"
   ]
  },
  {
   "cell_type": "code",
   "execution_count": null,
   "metadata": {},
   "outputs": [],
   "source": [
    "def traing_model():\n",
    "    model = Sequential()\n",
    "    model.add(Dense(units=40, input_dim=9,\n",
    "                kernel_initializer='uniform',\n",
    "                activation='relu'))\n",
    "    model.add(Dense(units=1,\n",
    "                kernel_initializer='uniform',\n",
    "                activation='sigmoid'))\n",
    "    model.compile(loss = 'binary_crossentropy',\n",
    "              optimizer='adam', metrics=['accuracy'])\n",
    "    return model"
   ]
  },
  {
   "cell_type": "code",
   "execution_count": null,
   "metadata": {},
   "outputs": [],
   "source": [
    "def training_result(train_Feature,train_Label,model):\n",
    "    train_history = model.fit(x=train_Feature,\n",
    "                          y=train_Label,\n",
    "                          validation_split=0.1,\n",
    "                          epochs=30,\n",
    "                          batch_size=30,verbose=2)\n",
    "    plt.plot(train_history.history[accuracy])\n",
    "    plt.plot(train_history.history[val_accuracy])\n",
    "    plt.title('Train History')\n",
    "    plt.xlabel('訓練週期')\n",
    "    plt.ylabel(train)\n",
    "    plt.legend([accuracy,val_accuracy], loc='upper left')\n",
    "    plt.show()\n",
    "    "
   ]
  },
  {
   "cell_type": "code",
   "execution_count": null,
   "metadata": {},
   "outputs": [],
   "source": [
    "def scores(model,test_Feature,test_Label):\n",
    "    scores = model.evaluate(x=test_Feature,\n",
    "                         y=test_Label)\n",
    "    return scores[1] "
   ]
  },
  {
   "cell_type": "code",
   "execution_count": null,
   "metadata": {},
   "outputs": [],
   "source": [
    "#執行處\n",
    "url = \"http://biostat.mc.vanderbilt.edu/wiki/pub/Main/DataSets/titanic3.xls\"\n",
    "file = \"titanic3.xls\"\n",
    "data = downloadData(url,file)\n",
    "train,test = splitData(data)\n",
    "train_Feature,train_Label = PreprocessData(train)\n",
    "test_Feature,test_Label = PreprocessData(test)\n",
    "model = traing_model()\n",
    "result = training_result(train_Feature,train_Label,model)\n",
    "point = scores(model,test_Feature,test_Label)"
   ]
  }
 ],
 "metadata": {
  "kernelspec": {
   "display_name": "Python 3",
   "language": "python",
   "name": "python3"
  },
  "language_info": {
   "codemirror_mode": {
    "name": "ipython",
    "version": 3
   },
   "file_extension": ".py",
   "mimetype": "text/x-python",
   "name": "python",
   "nbconvert_exporter": "python",
   "pygments_lexer": "ipython3",
   "version": "3.7.6"
  }
 },
 "nbformat": 4,
 "nbformat_minor": 4
}
