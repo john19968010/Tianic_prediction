{
 "cells": [
  {
   "cell_type": "markdown",
   "metadata": {},
   "source": [
    "### import函式"
   ]
  },
  {
   "cell_type": "code",
   "execution_count": 6,
   "metadata": {},
   "outputs": [],
   "source": [
    "import urllib.request #用於下載網站\n",
    "import os\n",
    "import numpy as np\n",
    "import pandas as pd"
   ]
  },
  {
   "cell_type": "markdown",
   "metadata": {},
   "source": [
    "### 下載檔案與確認資料"
   ]
  },
  {
   "cell_type": "code",
   "execution_count": 7,
   "metadata": {},
   "outputs": [
    {
     "data": {
      "text/plain": [
       "('titanic3.xls', <http.client.HTTPMessage at 0x1198988d0>)"
      ]
     },
     "execution_count": 7,
     "metadata": {},
     "output_type": "execute_result"
    }
   ],
   "source": [
    "#下載Taianic_xls\n",
    "url = \"http://biostat.mc.vanderbilt.edu/wiki/pub/Main/DataSets/titanic3.xls\"\n",
    "file = \"titanic3.xls\"\n",
    "urllib.request.urlretrieve(url,file)"
   ]
  },
  {
   "cell_type": "code",
   "execution_count": 47,
   "metadata": {},
   "outputs": [],
   "source": [
    "#用dataframe的方式讀取titanic3.xls\n",
    "data = pd.read_excel(\"titanic3.xls\")\n",
    "# data[:2]"
   ]
  },
  {
   "cell_type": "code",
   "execution_count": 48,
   "metadata": {},
   "outputs": [
    {
     "name": "stdout",
     "output_type": "stream",
     "text": [
      "Index(['pclass', 'survived', 'name', 'sex', 'age', 'sibsp', 'parch', 'ticket',\n",
      "       'fare', 'cabin', 'embarked', 'boat', 'body', 'home.dest'],\n",
      "      dtype='object')\n",
      "(1309, 14)\n"
     ]
    }
   ],
   "source": [
    "#查看欄位\n",
    "#pclass艙等(1,2,3),embarked登船港口(C = Cherbourg, Q = Queenstown, S =Southampton)\n",
    "#sibs手足或配偶也在船上的數量,parch雙親或子女也在船上的數量\n",
    "#ticket車票號碼,cabin艙位號碼\n",
    "col = data.columns\n",
    "size = data.shape\n",
    "print(col)\n",
    "print(size)"
   ]
  },
  {
   "cell_type": "code",
   "execution_count": 83,
   "metadata": {},
   "outputs": [],
   "source": [
    "#將ticket,cabin,bost,body與home.dest剔除(因對生存結果毫無影響)\n",
    "cols = [ 'survived', 'name','pclass', 'sex', 'age', 'sibsp', 'parch',\n",
    "       'fare', 'embarked']\n",
    "data = data[cols]\n",
    "# data[:2]"
   ]
  },
  {
   "cell_type": "markdown",
   "metadata": {},
   "source": [
    "### pandas資料預處理"
   ]
  },
  {
   "cell_type": "code",
   "execution_count": 84,
   "metadata": {},
   "outputs": [],
   "source": [
    "#因要跑深度學習需要欄位必須都是數字(須對以下欄位做處理)\n",
    "#name暫時去掉(做預測時在拿回)\n",
    "draft = data.drop(['name'], axis=1)\n",
    "# draft"
   ]
  },
  {
   "cell_type": "code",
   "execution_count": 85,
   "metadata": {},
   "outputs": [
    {
     "data": {
      "text/plain": [
       "survived      0\n",
       "pclass        0\n",
       "sex           0\n",
       "age         263\n",
       "sibsp         0\n",
       "parch         0\n",
       "fare          1\n",
       "embarked      2\n",
       "dtype: int64"
      ]
     },
     "execution_count": 85,
     "metadata": {},
     "output_type": "execute_result"
    }
   ],
   "source": [
    "#age與fare有部分是null,須剔除並改平均值\n",
    "draft.isnull().sum() #找出null"
   ]
  },
  {
   "cell_type": "code",
   "execution_count": 86,
   "metadata": {},
   "outputs": [
    {
     "name": "stdout",
     "output_type": "stream",
     "text": [
      "29.8811345124283\n",
      "33.29547928134572\n"
     ]
    }
   ],
   "source": [
    "age_avg = draft['age'].mean() #找出age的平均\n",
    "print(age_avg)\n",
    "draft['age'] = draft['age'].fillna(age_avg) #將null補上age_avg\n",
    "fare_avg = draft['fare'].mean() #找出fare的平均\n",
    "print(fare_avg)\n",
    "draft['fare'] = draft['fare'].fillna(fare_avg) #將null補上age_avg\n",
    "# draft[:2]"
   ]
  },
  {
   "cell_type": "code",
   "execution_count": 87,
   "metadata": {},
   "outputs": [
    {
     "data": {
      "text/html": [
       "<div>\n",
       "<style scoped>\n",
       "    .dataframe tbody tr th:only-of-type {\n",
       "        vertical-align: middle;\n",
       "    }\n",
       "\n",
       "    .dataframe tbody tr th {\n",
       "        vertical-align: top;\n",
       "    }\n",
       "\n",
       "    .dataframe thead th {\n",
       "        text-align: right;\n",
       "    }\n",
       "</style>\n",
       "<table border=\"1\" class=\"dataframe\">\n",
       "  <thead>\n",
       "    <tr style=\"text-align: right;\">\n",
       "      <th></th>\n",
       "      <th>survived</th>\n",
       "      <th>pclass</th>\n",
       "      <th>sex</th>\n",
       "      <th>age</th>\n",
       "      <th>sibsp</th>\n",
       "      <th>parch</th>\n",
       "      <th>fare</th>\n",
       "      <th>embarked</th>\n",
       "    </tr>\n",
       "  </thead>\n",
       "  <tbody>\n",
       "    <tr>\n",
       "      <th>0</th>\n",
       "      <td>1</td>\n",
       "      <td>1</td>\n",
       "      <td>0</td>\n",
       "      <td>29.0000</td>\n",
       "      <td>0</td>\n",
       "      <td>0</td>\n",
       "      <td>211.3375</td>\n",
       "      <td>S</td>\n",
       "    </tr>\n",
       "    <tr>\n",
       "      <th>1</th>\n",
       "      <td>1</td>\n",
       "      <td>1</td>\n",
       "      <td>1</td>\n",
       "      <td>0.9167</td>\n",
       "      <td>1</td>\n",
       "      <td>2</td>\n",
       "      <td>151.5500</td>\n",
       "      <td>S</td>\n",
       "    </tr>\n",
       "  </tbody>\n",
       "</table>\n",
       "</div>"
      ],
      "text/plain": [
       "   survived  pclass  sex      age  sibsp  parch      fare embarked\n",
       "0         1       1    0  29.0000      0      0  211.3375        S\n",
       "1         1       1    1   0.9167      1      2  151.5500        S"
      ]
     },
     "execution_count": 87,
     "metadata": {},
     "output_type": "execute_result"
    }
   ],
   "source": [
    "#sex(female,male)需改為0或1\n",
    "draft['sex'] = draft['sex'].map({'female':0, 'male':1}).astype(int)\n",
    "draft[:2]"
   ]
  },
  {
   "cell_type": "code",
   "execution_count": 88,
   "metadata": {},
   "outputs": [],
   "source": [
    "#embarked改為3個港口的新欄位,並以0,1做為判斷\n",
    "#get_dummies()函式運用\n",
    "new_data = pd.get_dummies(data=draft,columns=['embarked'])"
   ]
  },
  {
   "cell_type": "markdown",
   "metadata": {},
   "source": [
    "### Dataframe轉為Array"
   ]
  },
  {
   "cell_type": "code",
   "execution_count": 89,
   "metadata": {},
   "outputs": [],
   "source": [
    "#為了讓Keras有深度學習的訓練需將DataFrame轉為Array\n",
    "New_data = new_data.values"
   ]
  },
  {
   "cell_type": "code",
   "execution_count": 90,
   "metadata": {},
   "outputs": [],
   "source": [
    "#先講label(survived的結果)與features(所有的特徵)分開\n",
    "Label = New_data[:,0] #[全部的值,第一個欄位]\n",
    "Features = New_data[:,1:] #[全部的值,除了第一個以外的值]"
   ]
  },
  {
   "cell_type": "code",
   "execution_count": 91,
   "metadata": {},
   "outputs": [
    {
     "data": {
      "text/plain": [
       "array([[  1.    ,   0.    ,  29.    ,   0.    ,   0.    , 211.3375,\n",
       "          0.    ,   0.    ,   1.    ],\n",
       "       [  1.    ,   1.    ,   0.9167,   1.    ,   2.    , 151.55  ,\n",
       "          0.    ,   0.    ,   1.    ]])"
      ]
     },
     "execution_count": 91,
     "metadata": {},
     "output_type": "execute_result"
    }
   ],
   "source": [
    "Features[:2]"
   ]
  },
  {
   "cell_type": "markdown",
   "metadata": {},
   "source": [
    "### 將欄位標準化"
   ]
  },
  {
   "cell_type": "code",
   "execution_count": 93,
   "metadata": {},
   "outputs": [
    {
     "data": {
      "text/plain": [
       "array([[0.        , 0.        , 0.36116884, 0.        , 0.        ,\n",
       "        0.41250333, 0.        , 0.        , 1.        ],\n",
       "       [0.        , 1.        , 0.00939458, 0.125     , 0.22222222,\n",
       "        0.2958059 , 0.        , 0.        , 1.        ]])"
      ]
     },
     "execution_count": 93,
     "metadata": {},
     "output_type": "execute_result"
    }
   ],
   "source": [
    "#追求預測的結果準確需將資料所有的標準化\n",
    "#例：age的區間為3~70歲而 ticket則是10.~215.元無法統一比較\n",
    "#故將所有數值統一在0~1區間,可提高訓練模型的準確率\n",
    "from sklearn import preprocessing\n",
    "#引入preprocessing.MinMaxScaler套件讓標準化後的數值在0到1之間\n",
    "scale = preprocessing.MinMaxScaler(feature_range=(0,1))\n",
    "Scaled_Features = scale.fit_transform(Features)\n",
    "Scaled_Features[:2]"
   ]
  },
  {
   "cell_type": "markdown",
   "metadata": {},
   "source": [
    "### 切分資料"
   ]
  },
  {
   "cell_type": "code",
   "execution_count": 96,
   "metadata": {},
   "outputs": [
    {
     "name": "stdout",
     "output_type": "stream",
     "text": [
      "total: 1309\n",
      "train: 926\n",
      "test: 383\n"
     ]
    }
   ],
   "source": [
    "#切分為預測資料30% 與訓練資料70%\n",
    "split = np.random.rand(len(data)) < 0.7\n",
    "train = data[split]\n",
    "test = data[~split] #反向\n",
    "print('total:',len(data))\n",
    "print('train:',len(train))\n",
    "print('test:',len(test))"
   ]
  },
  {
   "cell_type": "code",
   "execution_count": 97,
   "metadata": {},
   "outputs": [],
   "source": [
    "#將所有資料處理包成fun後直接將切分好的資料帶入\n",
    "def PreprocessData(data):\n",
    "    draft = data.drop(['name'], axis=1)\n",
    "    age_avg = draft['age'].mean()\n",
    "    draft['age'] = draft['age'].fillna(age_avg)\n",
    "    fare_avg = draft['fare'].mean()\n",
    "    draft['fare'] = draft['fare'].fillna(fare_avg)\n",
    "    draft['sex'] = draft['sex'].map({'female':0, 'male':1}).astype(int)\n",
    "    new_data = pd.get_dummies(data=draft,columns=['embarked'])\n",
    "    \n",
    "    New_data = new_data.values\n",
    "    Label = New_data[:,0]\n",
    "    Features = New_data[:,1:]\n",
    "    \n",
    "    scale = preprocessing.MinMaxScaler(feature_range=(0,1))\n",
    "    Scaled_Features = scale.fit_transform(Features)\n",
    "    \n",
    "    return Scaled_Features,Label"
   ]
  },
  {
   "cell_type": "code",
   "execution_count": 100,
   "metadata": {},
   "outputs": [],
   "source": [
    "#將資料放入\n",
    "#若無特別指定,第一個的變數為return的第一個值以此類推\n",
    "train_Feature,train_Label = PreprocessData(train)\n",
    "test_Feature,test_Label = PreprocessData(test)"
   ]
  },
  {
   "cell_type": "markdown",
   "metadata": {},
   "source": [
    "### 匯入Keras預測模組\n"
   ]
  },
  {
   "cell_type": "code",
   "execution_count": 101,
   "metadata": {},
   "outputs": [],
   "source": [
    "from keras.models import Sequential\n",
    "from keras.layers import Dense,Dropout"
   ]
  },
  {
   "cell_type": "code",
   "execution_count": 107,
   "metadata": {},
   "outputs": [],
   "source": [
    "#建立 keras Sequential模型\n",
    "model = Sequential()"
   ]
  },
  {
   "cell_type": "markdown",
   "metadata": {},
   "source": [
    "### Keras多層感知器(MLP)類神經傳導"
   ]
  },
  {
   "cell_type": "code",
   "execution_count": 108,
   "metadata": {},
   "outputs": [],
   "source": [
    "#第一層\n",
    "#共有9個features故input_dim為9個神經元(輸入)\n",
    "#units=40個神經元(輸出)\n",
    "#使用uniform distribution分布的亂數初始化權重(weight)與偏差值(bias)\n",
    "#激活(activation)函數relu\n",
    "model.add(Dense(units=40, input_dim=9,\n",
    "                kernel_initializer='uniform',\n",
    "                activation='relu'))"
   ]
  },
  {
   "cell_type": "code",
   "execution_count": 109,
   "metadata": {},
   "outputs": [],
   "source": [
    "#第二層\n",
    "#units=1個神經元(輸出)\n",
    "#使用uniform distribution分布的亂數初始化權重(weight)與偏差值(bias)\n",
    "#激活(activation)函數sigmoid\n",
    "model.add(Dense(units=1,\n",
    "                kernel_initializer='uniform',\n",
    "                activation='sigmoid'))\n"
   ]
  },
  {
   "cell_type": "code",
   "execution_count": 110,
   "metadata": {},
   "outputs": [],
   "source": [
    "#定義訓練方式compile\n",
    "#設定損失函數(loss function)深度學習中cross_entropy訓練效果較好\n",
    "#設定最優化方法(optimizer)深度學習中adam可提高準確率\n",
    "#設定評估模型的方式是accuracy\n",
    "model.compile(loss = 'binary_crossentropy',\n",
    "              optimizer='adam', metrics=['accuracy'])"
   ]
  },
  {
   "cell_type": "markdown",
   "metadata": {},
   "source": [
    "### 開始訓練"
   ]
  },
  {
   "cell_type": "code",
   "execution_count": 111,
   "metadata": {},
   "outputs": [
    {
     "name": "stdout",
     "output_type": "stream",
     "text": [
      "Epoch 1/30\n",
      "28/28 - 0s - loss: 0.6860 - accuracy: 0.6086 - val_loss: 0.6635 - val_accuracy: 0.7634\n",
      "Epoch 2/30\n",
      "28/28 - 0s - loss: 0.6653 - accuracy: 0.6122 - val_loss: 0.6155 - val_accuracy: 0.7634\n",
      "Epoch 3/30\n",
      "28/28 - 0s - loss: 0.6367 - accuracy: 0.6206 - val_loss: 0.5623 - val_accuracy: 0.7634\n",
      "Epoch 4/30\n",
      "28/28 - 0s - loss: 0.6074 - accuracy: 0.6591 - val_loss: 0.5220 - val_accuracy: 0.7634\n",
      "Epoch 5/30\n",
      "28/28 - 0s - loss: 0.5791 - accuracy: 0.6915 - val_loss: 0.5035 - val_accuracy: 0.7849\n",
      "Epoch 6/30\n",
      "28/28 - 0s - loss: 0.5549 - accuracy: 0.7383 - val_loss: 0.4831 - val_accuracy: 0.7742\n",
      "Epoch 7/30\n",
      "28/28 - 0s - loss: 0.5319 - accuracy: 0.7731 - val_loss: 0.4791 - val_accuracy: 0.7742\n",
      "Epoch 8/30\n",
      "28/28 - 0s - loss: 0.5163 - accuracy: 0.7827 - val_loss: 0.4656 - val_accuracy: 0.7742\n",
      "Epoch 9/30\n",
      "28/28 - 0s - loss: 0.5049 - accuracy: 0.7827 - val_loss: 0.4581 - val_accuracy: 0.7527\n",
      "Epoch 10/30\n",
      "28/28 - 0s - loss: 0.4972 - accuracy: 0.7755 - val_loss: 0.4547 - val_accuracy: 0.8065\n",
      "Epoch 11/30\n",
      "28/28 - 0s - loss: 0.4914 - accuracy: 0.7731 - val_loss: 0.4505 - val_accuracy: 0.8065\n",
      "Epoch 12/30\n",
      "28/28 - 0s - loss: 0.4881 - accuracy: 0.7755 - val_loss: 0.4477 - val_accuracy: 0.8065\n",
      "Epoch 13/30\n",
      "28/28 - 0s - loss: 0.4851 - accuracy: 0.7731 - val_loss: 0.4471 - val_accuracy: 0.8065\n",
      "Epoch 14/30\n",
      "28/28 - 0s - loss: 0.4833 - accuracy: 0.7743 - val_loss: 0.4442 - val_accuracy: 0.8065\n",
      "Epoch 15/30\n",
      "28/28 - 0s - loss: 0.4812 - accuracy: 0.7815 - val_loss: 0.4428 - val_accuracy: 0.8065\n",
      "Epoch 16/30\n",
      "28/28 - 0s - loss: 0.4786 - accuracy: 0.7767 - val_loss: 0.4414 - val_accuracy: 0.8065\n",
      "Epoch 17/30\n",
      "28/28 - 0s - loss: 0.4769 - accuracy: 0.7827 - val_loss: 0.4404 - val_accuracy: 0.8065\n",
      "Epoch 18/30\n",
      "28/28 - 0s - loss: 0.4759 - accuracy: 0.7839 - val_loss: 0.4381 - val_accuracy: 0.8065\n",
      "Epoch 19/30\n",
      "28/28 - 0s - loss: 0.4740 - accuracy: 0.7827 - val_loss: 0.4365 - val_accuracy: 0.8065\n",
      "Epoch 20/30\n",
      "28/28 - 0s - loss: 0.4735 - accuracy: 0.7851 - val_loss: 0.4361 - val_accuracy: 0.8065\n",
      "Epoch 21/30\n",
      "28/28 - 0s - loss: 0.4719 - accuracy: 0.7839 - val_loss: 0.4336 - val_accuracy: 0.8065\n",
      "Epoch 22/30\n",
      "28/28 - 0s - loss: 0.4694 - accuracy: 0.7887 - val_loss: 0.4327 - val_accuracy: 0.8065\n",
      "Epoch 23/30\n",
      "28/28 - 0s - loss: 0.4698 - accuracy: 0.7851 - val_loss: 0.4323 - val_accuracy: 0.7957\n",
      "Epoch 24/30\n",
      "28/28 - 0s - loss: 0.4674 - accuracy: 0.7899 - val_loss: 0.4311 - val_accuracy: 0.8065\n",
      "Epoch 25/30\n",
      "28/28 - 0s - loss: 0.4668 - accuracy: 0.7815 - val_loss: 0.4304 - val_accuracy: 0.8065\n",
      "Epoch 26/30\n",
      "28/28 - 0s - loss: 0.4649 - accuracy: 0.7923 - val_loss: 0.4297 - val_accuracy: 0.8280\n",
      "Epoch 27/30\n",
      "28/28 - 0s - loss: 0.4639 - accuracy: 0.7947 - val_loss: 0.4294 - val_accuracy: 0.7957\n",
      "Epoch 28/30\n",
      "28/28 - 0s - loss: 0.4648 - accuracy: 0.7935 - val_loss: 0.4278 - val_accuracy: 0.8280\n",
      "Epoch 29/30\n",
      "28/28 - 0s - loss: 0.4623 - accuracy: 0.7923 - val_loss: 0.4278 - val_accuracy: 0.8172\n",
      "Epoch 30/30\n",
      "28/28 - 0s - loss: 0.4609 - accuracy: 0.7947 - val_loss: 0.4260 - val_accuracy: 0.8280\n"
     ]
    }
   ],
   "source": [
    "#validation_split=0.1會切分成90%訓練資料10%驗證資料(內部)\n",
    "#epochs=30執行30次訓練週期,batch_size=30每一批次30筆資料\n",
    "#verbose=2會顯示2次的訓練過程\n",
    "train_history = model.fit(x=train_Feature,\n",
    "                          y=train_Label,\n",
    "                          validation_split=0.1,\n",
    "                          epochs=30,\n",
    "                          batch_size=30,verbose=2)"
   ]
  },
  {
   "cell_type": "markdown",
   "metadata": {},
   "source": [
    "### 以圖表顯示測試結果"
   ]
  },
  {
   "cell_type": "code",
   "execution_count": 113,
   "metadata": {},
   "outputs": [],
   "source": [
    "#設定函示\n",
    "import matplotlib.pyplot as plt\n",
    "def show_train_history(train_history,train,validation):\n",
    "    plt.plot(train_history.history[train])\n",
    "    plt.plot(train_history.history[validation])\n",
    "    plt.title('Train History')\n",
    "    plt.xlabel('訓練週期')\n",
    "    plt.ylabel(train)\n",
    "    plt.legend([train,validation], loc='upper left')\n",
    "    plt.show()"
   ]
  },
  {
   "cell_type": "code",
   "execution_count": 116,
   "metadata": {},
   "outputs": [
    {
     "name": "stderr",
     "output_type": "stream",
     "text": [
      "/opt/anaconda3/lib/python3.7/site-packages/matplotlib/backends/backend_agg.py:238: RuntimeWarning: Glyph 35347 missing from current font.\n",
      "  font.set_text(s, 0.0, flags=flags)\n",
      "/opt/anaconda3/lib/python3.7/site-packages/matplotlib/backends/backend_agg.py:238: RuntimeWarning: Glyph 32244 missing from current font.\n",
      "  font.set_text(s, 0.0, flags=flags)\n",
      "/opt/anaconda3/lib/python3.7/site-packages/matplotlib/backends/backend_agg.py:238: RuntimeWarning: Glyph 36913 missing from current font.\n",
      "  font.set_text(s, 0.0, flags=flags)\n",
      "/opt/anaconda3/lib/python3.7/site-packages/matplotlib/backends/backend_agg.py:238: RuntimeWarning: Glyph 26399 missing from current font.\n",
      "  font.set_text(s, 0.0, flags=flags)\n",
      "/opt/anaconda3/lib/python3.7/site-packages/matplotlib/backends/backend_agg.py:201: RuntimeWarning: Glyph 35347 missing from current font.\n",
      "  font.set_text(s, 0, flags=flags)\n",
      "/opt/anaconda3/lib/python3.7/site-packages/matplotlib/backends/backend_agg.py:201: RuntimeWarning: Glyph 32244 missing from current font.\n",
      "  font.set_text(s, 0, flags=flags)\n",
      "/opt/anaconda3/lib/python3.7/site-packages/matplotlib/backends/backend_agg.py:201: RuntimeWarning: Glyph 36913 missing from current font.\n",
      "  font.set_text(s, 0, flags=flags)\n",
      "/opt/anaconda3/lib/python3.7/site-packages/matplotlib/backends/backend_agg.py:201: RuntimeWarning: Glyph 26399 missing from current font.\n",
      "  font.set_text(s, 0, flags=flags)\n"
     ]
    },
    {
     "data": {
      "image/png": "[encoded data removed]",
      "text/plain": [
       "<Figure size 432x288 with 1 Axes>"
      ]
     },
     "metadata": {
      "needs_background": "light"
     },
     "output_type": "display_data"
    }
   ],
   "source": [
    "#套入準確性數值,可以看出準確率越來越高\n",
    "#loss: 0.6860 - accuracy: 0.6086 - val_loss: 0.6635 - val_accuracy: 0.7634\n",
    "show_train_history(train_history,'accuracy','val_accuracy')"
   ]
  },
  {
   "cell_type": "code",
   "execution_count": 117,
   "metadata": {},
   "outputs": [
    {
     "data": {
      "image/png": "[encoded data removed]",
      "text/plain": [
       "<Figure size 432x288 with 1 Axes>"
      ]
     },
     "metadata": {
      "needs_background": "light"
     },
     "output_type": "display_data"
    }
   ],
   "source": [
    "#套入誤差性數值,可以看出誤差性越來越低\n",
    "show_train_history(train_history,'loss','val_loss')"
   ]
  },
  {
   "cell_type": "markdown",
   "metadata": {},
   "source": [
    "### 評估模型準確率"
   ]
  },
  {
   "cell_type": "code",
   "execution_count": 120,
   "metadata": {},
   "outputs": [
    {
     "name": "stdout",
     "output_type": "stream",
     "text": [
      "12/12 [==============================] - 0s 2ms/step - loss: 0.4519 - accuracy: 0.8016\n"
     ]
    },
    {
     "data": {
      "text/plain": [
       "0.8015666007995605"
      ]
     },
     "execution_count": 120,
     "metadata": {},
     "output_type": "execute_result"
    }
   ],
   "source": [
    "#用測試的資料(test)評估準確性\n",
    "scores = model.evaluate(x=test_Feature,\n",
    "                         y=test_Label)\n",
    "scores[1]"
   ]
  },
  {
   "cell_type": "markdown",
   "metadata": {},
   "source": [
    "### 加入jack跟rose的資料測試"
   ]
  },
  {
   "cell_type": "code",
   "execution_count": 121,
   "metadata": {},
   "outputs": [],
   "source": [
    "Jack = pd.Series([0,'Jack',3, 'male'  , 23, 1, 0,   5.0000,'S'])\n",
    "Rose = pd.Series([1,'Rose',1, 'female', 20, 1, 0, 100.0000,'S'])\n"
   ]
  },
  {
   "cell_type": "code",
   "execution_count": 122,
   "metadata": {},
   "outputs": [],
   "source": [
    "#轉成dataframe\n",
    "JR_data = pd.DataFrame([list(Jack),list(Rose)],\n",
    "                       columns=['survived', 'name','pclass', 'sex',\n",
    "                                'age', 'sibsp', 'parch','fare', 'embarked'])"
   ]
  },
  {
   "cell_type": "code",
   "execution_count": 123,
   "metadata": {},
   "outputs": [
    {
     "data": {
      "text/html": [
       "<div>\n",
       "<style scoped>\n",
       "    .dataframe tbody tr th:only-of-type {\n",
       "        vertical-align: middle;\n",
       "    }\n",
       "\n",
       "    .dataframe tbody tr th {\n",
       "        vertical-align: top;\n",
       "    }\n",
       "\n",
       "    .dataframe thead th {\n",
       "        text-align: right;\n",
       "    }\n",
       "</style>\n",
       "<table border=\"1\" class=\"dataframe\">\n",
       "  <thead>\n",
       "    <tr style=\"text-align: right;\">\n",
       "      <th></th>\n",
       "      <th>survived</th>\n",
       "      <th>name</th>\n",
       "      <th>pclass</th>\n",
       "      <th>sex</th>\n",
       "      <th>age</th>\n",
       "      <th>sibsp</th>\n",
       "      <th>parch</th>\n",
       "      <th>fare</th>\n",
       "      <th>embarked</th>\n",
       "    </tr>\n",
       "  </thead>\n",
       "  <tbody>\n",
       "    <tr>\n",
       "      <th>0</th>\n",
       "      <td>0</td>\n",
       "      <td>Jack</td>\n",
       "      <td>3</td>\n",
       "      <td>male</td>\n",
       "      <td>23.0</td>\n",
       "      <td>1</td>\n",
       "      <td>0</td>\n",
       "      <td>5.0</td>\n",
       "      <td>S</td>\n",
       "    </tr>\n",
       "    <tr>\n",
       "      <th>1</th>\n",
       "      <td>1</td>\n",
       "      <td>Rose</td>\n",
       "      <td>1</td>\n",
       "      <td>female</td>\n",
       "      <td>20.0</td>\n",
       "      <td>1</td>\n",
       "      <td>0</td>\n",
       "      <td>100.0</td>\n",
       "      <td>S</td>\n",
       "    </tr>\n",
       "  </tbody>\n",
       "</table>\n",
       "</div>"
      ],
      "text/plain": [
       "   survived  name  pclass     sex   age  sibsp  parch   fare embarked\n",
       "0         0  Jack       3    male  23.0      1      0    5.0        S\n",
       "1         1  Rose       1  female  20.0      1      0  100.0        S"
      ]
     },
     "execution_count": 123,
     "metadata": {},
     "output_type": "execute_result"
    }
   ],
   "source": [
    "#將原先資料加上Jack跟Rose的資料\n",
    "data=pd.concat([data,JR_data])\n",
    "data[-2:]"
   ]
  },
  {
   "cell_type": "code",
   "execution_count": 124,
   "metadata": {},
   "outputs": [],
   "source": [
    "#開始預測\n",
    "#將新資料放入PreprocessData函式中\n",
    "new_Feature,Label = PreprocessData(data)"
   ]
  },
  {
   "cell_type": "code",
   "execution_count": 125,
   "metadata": {},
   "outputs": [
    {
     "data": {
      "text/plain": [
       "array([[0.94834906],\n",
       "       [0.45161515],\n",
       "       [0.924723  ],\n",
       "       [0.3556095 ],\n",
       "       [0.9200696 ],\n",
       "       [0.26594734],\n",
       "       [0.8671639 ],\n",
       "       [0.2765067 ],\n",
       "       [0.8386313 ],\n",
       "       [0.3402276 ]], dtype=float32)"
      ]
     },
     "execution_count": 125,
     "metadata": {},
     "output_type": "execute_result"
    }
   ],
   "source": [
    "#用model.predict直接預測\n",
    "#觀看前10筆的旅客生存機率\n",
    "all_probability = model.predict(new_Feature)\n",
    "all_probability[:10]"
   ]
  },
  {
   "cell_type": "code",
   "execution_count": 126,
   "metadata": {},
   "outputs": [
    {
     "data": {
      "text/html": [
       "<div>\n",
       "<style scoped>\n",
       "    .dataframe tbody tr th:only-of-type {\n",
       "        vertical-align: middle;\n",
       "    }\n",
       "\n",
       "    .dataframe tbody tr th {\n",
       "        vertical-align: top;\n",
       "    }\n",
       "\n",
       "    .dataframe thead th {\n",
       "        text-align: right;\n",
       "    }\n",
       "</style>\n",
       "<table border=\"1\" class=\"dataframe\">\n",
       "  <thead>\n",
       "    <tr style=\"text-align: right;\">\n",
       "      <th></th>\n",
       "      <th>survived</th>\n",
       "      <th>name</th>\n",
       "      <th>pclass</th>\n",
       "      <th>sex</th>\n",
       "      <th>age</th>\n",
       "      <th>sibsp</th>\n",
       "      <th>parch</th>\n",
       "      <th>fare</th>\n",
       "      <th>embarked</th>\n",
       "      <th>probability</th>\n",
       "    </tr>\n",
       "  </thead>\n",
       "  <tbody>\n",
       "    <tr>\n",
       "      <th>0</th>\n",
       "      <td>0</td>\n",
       "      <td>Jack</td>\n",
       "      <td>3</td>\n",
       "      <td>male</td>\n",
       "      <td>23.0</td>\n",
       "      <td>1</td>\n",
       "      <td>0</td>\n",
       "      <td>5.0</td>\n",
       "      <td>S</td>\n",
       "      <td>0.122350</td>\n",
       "    </tr>\n",
       "    <tr>\n",
       "      <th>1</th>\n",
       "      <td>1</td>\n",
       "      <td>Rose</td>\n",
       "      <td>1</td>\n",
       "      <td>female</td>\n",
       "      <td>20.0</td>\n",
       "      <td>1</td>\n",
       "      <td>0</td>\n",
       "      <td>100.0</td>\n",
       "      <td>S</td>\n",
       "      <td>0.916911</td>\n",
       "    </tr>\n",
       "  </tbody>\n",
       "</table>\n",
       "</div>"
      ],
      "text/plain": [
       "   survived  name  pclass     sex   age  sibsp  parch   fare embarked  \\\n",
       "0         0  Jack       3    male  23.0      1      0    5.0        S   \n",
       "1         1  Rose       1  female  20.0      1      0  100.0        S   \n",
       "\n",
       "   probability  \n",
       "0     0.122350  \n",
       "1     0.916911  "
      ]
     },
     "execution_count": 126,
     "metadata": {},
     "output_type": "execute_result"
    }
   ],
   "source": [
    "#將預測結果(probability)加入data之中即可直接對照該旅客的生存機率\n",
    "data.insert(len(data.columns),\n",
    "           'probability',all_probability)\n",
    "data[-2:] #最後2筆為Jack與Rose的資料"
   ]
  }
 ],
 "metadata": {
  "kernelspec": {
   "display_name": "Python 3",
   "language": "python",
   "name": "python3"
  },
  "language_info": {
   "codemirror_mode": {
    "name": "ipython",
    "version": 3
   },
   "file_extension": ".py",
   "mimetype": "text/x-python",
   "name": "python",
   "nbconvert_exporter": "python",
   "pygments_lexer": "ipython3",
   "version": "3.7.6"
  }
 },
 "nbformat": 4,
 "nbformat_minor": 4
}
